{
 "cells": [
  {
   "cell_type": "markdown",
   "metadata": {
    "slideshow": {
     "slide_type": "slide"
    }
   },
   "source": [
    "\n",
    "# A point analysis of weak learning models\n",
    "\n",
    "    Notebook version: 1.2 (May 29, 2017)\n",
    "\n",
    "    Author: Jesús Cid Sueiro (jcid@tsc.uc3m.es)\n",
    "               "
   ]
  },
  {
   "cell_type": "markdown",
   "metadata": {
    "slideshow": {
     "slide_type": "notes"
    }
   },
   "source": [
    "    Changes: v.1.0 - First version"
   ]
  },
  {
   "cell_type": "code",
   "execution_count": 1,
   "metadata": {
    "collapsed": false,
    "slideshow": {
     "slide_type": "slide"
    }
   },
   "outputs": [],
   "source": [
    "# To visualize plots in the notebook\n",
    "%matplotlib inline \n",
    "\n",
    "# Import some libraries that will be necessary for working with data and displaying plots\n",
    "# import csv     # To read csv files\n",
    "# import random\n",
    "import matplotlib.pyplot as plt\n",
    "import numpy as np\n",
    "from scipy import spatial\n",
    "# from sklearn import neighbors, datasets\n",
    "import wlc.WLweakener as wlw"
   ]
  },
  {
   "cell_type": "markdown",
   "metadata": {
    "slideshow": {
     "slide_type": "slide"
    }
   },
   "source": [
    "\n",
    "## 1. Introduction.\n",
    "\n",
    "In this notebook we analyze the behavior of sample based estimates of a $C$-dimensional probability vector $\\boldsymbol{\\eta}$ from binary vector instances.\n",
    "\n",
    "The main goal is to compare the behavior of a \"supervised\" estimate, based on a set of labels $\\{{\\bf y}_k, k=0,\\ldots, K-1\\}$ generated from $\\boldsymbol{\\eta}$, and estimates based on weak labels, $\\{{\\bf b}_k, k=0,\\ldots, K-1\\}$, generated from some related distribution ${\\bf q} = {\\bf M}\\boldsymbol{\\eta}$, where ${\\bf M}$ is called a mixing matrix and contains conditional probabilities.\n",
    "\n",
    "To do so, we will generate a dataset of labels drawn from $\\boldsymbol{\\eta}$, and one or more datasets of weak labels drawn from ${\\bf q}$.\n",
    "\n",
    "First we define some configurable parameters:"
   ]
  },
  {
   "cell_type": "code",
   "execution_count": 2,
   "metadata": {
    "collapsed": false
   },
   "outputs": [],
   "source": [
    "# CONFIGURABLE PARAMETERS FOR THE WHOLE NOTEBOOK\n",
    "C = 3                             # Number of classes\n",
    "K = 10000                         # Sample size\n",
    "eta = np.array([0.5, 0.2, 0.3])   # True probability vector\n",
    "\n",
    "# Weak Label model. \n",
    "# This is the model used to generate the data.\n",
    "# Available options are: quasi_IPL, noisy, ...\n",
    "wl_model = 'noisy'   # quasi_IPL'\n",
    "\n",
    "# Parameters of the weak label model\n",
    "beta = 0.5\n",
    "\n",
    "# Virtual label model\n",
    "# This it the model used to estimate the probability vector\n",
    "# Available options are: quasi_IPL, noisy, Mproper, ...\n",
    "vl_model = 'Mproper'"
   ]
  },
  {
   "cell_type": "markdown",
   "metadata": {},
   "source": [
    "### 1.1. Mixing Matrix.\n",
    "\n",
    "Based on the selected weak label model, we generate and visualize the corresponding mixing matrix."
   ]
  },
  {
   "cell_type": "code",
   "execution_count": 3,
   "metadata": {
    "collapsed": false
   },
   "outputs": [
    {
     "name": "stdout",
     "output_type": "stream",
     "text": [
      "Mixing matrix:\n",
      "[[ 0.5   0.25  0.25]\n",
      " [ 0.25  0.5   0.25]\n",
      " [ 0.25  0.25  0.5 ]]\n",
      "Corresponding to weak label indices [4 2 1]\n"
     ]
    },
    {
     "data": {
      "image/png": "[encoded data removed]",
      "text/plain": [
       "<matplotlib.figure.Figure at 0x105bd5b90>"
      ]
     },
     "metadata": {},
     "output_type": "display_data"
    }
   ],
   "source": [
    "# Mixing matrix\n",
    "M = wlw.computeM(C, beta=beta, method=wl_model)\n",
    "\n",
    "if wl_model == 'quasi_IPL':\n",
    "    dec_labels = np.arange(0, 2**C)\n",
    "elif wl_model == 'noisy':\n",
    "    dec_labels = 2**np.arange(C-1, -1, -1)\n",
    "else:\n",
    "    raise ValueError(\"dec_labels not implemented for the given wl_model\")\n",
    "\n",
    "# Remove zero rows\n",
    "flag = np.nonzero(np.sum(M, axis=1))[0]\n",
    "M = M[flag, :]   # This is to remove zero rows, which are not relevant\n",
    "dec_labels = dec_labels[flag]   # This is to remove zero rows, which are not relevant\n",
    "\n",
    "# Show:\n",
    "print \"Mixing matrix:\"\n",
    "print M\n",
    "print \"Corresponding to weak label indices {0}\".format(dec_labels)\n",
    "\n",
    "plt.imshow(M, interpolation='nearest', cmap=\"gray\", clim=(0.0, 1.0)) \n",
    "plt.colorbar()\n",
    "plt.title('Mixing Matrix')\n",
    "plt.xlabel('True label')\n",
    "plt.ylabel('Weak label')\n",
    "plt.xticks([], [])\n",
    "plt.yticks([], [])\n",
    "plt.show()"
   ]
  },
  {
   "cell_type": "markdown",
   "metadata": {},
   "source": [
    "### 1.2. Dataset generation.\n",
    "\n",
    "In the following we will generate a dataset of labels and their corresponding weak labels"
   ]
  },
  {
   "cell_type": "code",
   "execution_count": 4,
   "metadata": {
    "collapsed": false
   },
   "outputs": [
    {
     "name": "stdout",
     "output_type": "stream",
     "text": [
      "[4 2 4 ..., 4 2 1]\n"
     ]
    }
   ],
   "source": [
    "# Generate true labels\n",
    "I = np.eye(C)\n",
    "iy = np.random.choice(np.arange(0, C), size=K, p=eta)\n",
    "y = I[iy]\n",
    "\n",
    "# Generate weak label indices\n",
    "z = wlw.generateWeak(iy, M, dec_labels)\n",
    "print z"
   ]
  },
  {
   "cell_type": "markdown",
   "metadata": {},
   "source": [
    "### 1.3. Supervised, sample based estimation.\n",
    "\n",
    "In the supervised setting, ${\\bf y}$ is observed an the optimal sample based estimate of $\\boldsymbol{\\eta}$ (minimizing any Bregman divergence) based on the observed labels is the sample average"
   ]
  },
  {
   "cell_type": "code",
   "execution_count": 5,
   "metadata": {
    "collapsed": false
   },
   "outputs": [
    {
     "name": "stdout",
     "output_type": "stream",
     "text": [
      "Supervised estimate: [ 0.4932  0.2013  0.3055]\n",
      "Square error: 7.818e-05\n"
     ]
    }
   ],
   "source": [
    "f = np.mean(y, axis=0)\n",
    "print \"Supervised estimate: {0}\".format(f)\n",
    "e2 = np.sum((f - eta)**2)\n",
    "print \"Square error: {0}\".format(e2)"
   ]
  },
  {
   "cell_type": "markdown",
   "metadata": {},
   "source": [
    "### 1.4. Learning from weak labels.\n",
    "\n",
    "There are many ways to estimate $\\boldsymbol{\\eta}$ from the weak labels. We consider here a representative sample of them:"
   ]
  },
  {
   "cell_type": "markdown",
   "metadata": {},
   "source": [
    "#### 1.4.1. Averaging virtual labels\n",
    "\n",
    "If ${\\bf z}$ is a sample from distribution ${\\bf q}$, and ${\\bf V}$ is any left inverse of the mixing matrix (so that ${\\bf V}{\\bf M} = {\\bf I}$ then it can be shown that $\\mathbb{E}\\{{\\bf v}\\} = \\boldsymbol{\\eta}$. Therefore, we can estimate $\\boldsymbol{\\eta}$ as the average of virtual labels:"
   ]
  },
  {
   "cell_type": "code",
   "execution_count": 6,
   "metadata": {
    "collapsed": false
   },
   "outputs": [
    {
     "name": "stdout",
     "output_type": "stream",
     "text": [
      "Virtual labels are:\n",
      "[[ 3. -1. -1.]\n",
      " [-1.  3. -1.]\n",
      " [ 3. -1. -1.]\n",
      " ..., \n",
      " [ 3. -1. -1.]\n",
      " [-1.  3. -1.]\n",
      " [-1. -1.  3.]]\n",
      "Virtual label estimate: [ 0.4664  0.232   0.3016]\n",
      "Square error: 0.00215552\n"
     ]
    }
   ],
   "source": [
    "v = wlw.computeVirtual(z, C, method=vl_model, M=M, dec_labels=dec_labels)\n",
    "\n",
    "print \"Virtual labels are:\"\n",
    "print v\n",
    "f_v = np.mean(v, axis=0)\n",
    "\n",
    "print \"Virtual label estimate: {0}\".format(f_v)\n",
    "e2 = np.sum((f_v - eta)**2)\n",
    "print \"Square error: {0}\".format(e2)"
   ]
  },
  {
   "cell_type": "markdown",
   "metadata": {},
   "source": [
    "The choice of ${\\bf V}$ is relevant. Different left inverses of the mixing matrix may have better behavior under finite samples."
   ]
  },
  {
   "cell_type": "markdown",
   "metadata": {},
   "source": [
    "#### 1.3.2. Maximum Likelihood Estimate\n",
    "\n",
    "The expected value of a virtual label vector can be shown to be equal to the minimizer of the expected log likelihood. This implies that, on average, the average of the virtual label vector and the ML estimate should be assymptotically equivalent. However, for a finite sample size, they can also lead to different results.\n",
    "\n",
    "The following function computes the ML estimate by means of the EM algorithm."
   ]
  },
  {
   "cell_type": "code",
   "execution_count": 7,
   "metadata": {
    "collapsed": false
   },
   "outputs": [],
   "source": [
    "def computeML(iz, M, f0=None, max_iter=1e10, echo='off'):\n",
    "    \"\"\"\n",
    "    Compute the ML estimate of a probability vector based on weak labels in iz and the mixing matrix M.\n",
    "    The estimation method is based on Expectation Maximization.\n",
    "    \n",
    "    Args:\n",
    "        iz       :Observed weak labels\n",
    "        M        :Mixing matrix\n",
    "        f0       :Initial value of the ML estimate.\n",
    "        max_iter :Maximum number of iterations.\n",
    "        echo     :If 'on', output messages are shown\n",
    "\n",
    "    Returns:\n",
    "        f_ml     :Maximum likelihood estimate\n",
    "    \"\"\"\n",
    "\n",
    "    # Initialize the estimate.\n",
    "    if f0 is None:\n",
    "        C = M.shape[1]   # No. of classes\n",
    "        f_ml = np.ones(C)/C\n",
    "    else:\n",
    "        f_ml = f0\n",
    "\n",
    "    # Recursive estimation\n",
    "    iterate = True\n",
    "    count = 0\n",
    "    while iterate:\n",
    "        fi = np.dot(np.diag(f_ml), M.T)[:,iz.astype(int)]\n",
    "        fi = fi / np.sum(fi, axis=0)\n",
    "        f_new = np.mean(fi, axis=1)\n",
    "        count += 1\n",
    "        iterate = np.any(f_new != f_ml) and count < max_iter\n",
    "        f_ml = np.copy(f_new)\n",
    "    \n",
    "    if echo=='on':\n",
    "        if count>= max_iter:\n",
    "            print \"Stopped before convergence after {0} iterations\".format(max_iter)\n",
    "        else:\n",
    "            print \"Converged in {0} iterations\".format(count)\n",
    "\n",
    "    return f_ml\n",
    "\n",
    "def computeNLL(iz, M, f):\n",
    "    \"\"\"\n",
    "    Compute the Log-Likelihood function for an estimate f.\n",
    "    \"\"\"\n",
    "    \n",
    "    I = np.eye(M.shape[0])\n",
    "    z = I[iz.astype(int)]\n",
    "    NLL = - np.dot(np.mean(z, axis=0), np.log(np.dot(M, f)))\n",
    "\n",
    "    return NLL"
   ]
  },
  {
   "cell_type": "markdown",
   "metadata": {},
   "source": [
    "We can verify that the EM steps monotonically decrease the NLL"
   ]
  },
  {
   "cell_type": "code",
   "execution_count": 8,
   "metadata": {
    "collapsed": false,
    "scrolled": false
   },
   "outputs": [
    {
     "name": "stdout",
     "output_type": "stream",
     "text": [
      "Converged in 481 iterations\n",
      "eta = [ 0.5  0.2  0.3]\n",
      "f_ml = [ 0.4664  0.232   0.3016]\n",
      "f_v = [ 0.4664  0.232   0.3016]\n"
     ]
    },
    {
     "data": {
      "image/png": "[encoded data removed]",
      "text/plain": [
       "<matplotlib.figure.Figure at 0x10d682c10>"
      ]
     },
     "metadata": {},
     "output_type": "display_data"
    },
    {
     "name": "stdout",
     "output_type": "stream",
     "text": [
      "The final estimate is [ 0.4664  0.232   0.3016]\n",
      "The true label is [ 0.5  0.2  0.3]\n"
     ]
    }
   ],
   "source": [
    "n_it = 10000\n",
    "\n",
    "I = np.eye(M.shape[0])\n",
    "\n",
    "# Compute inverted index \n",
    "z2i = dict(zip(dec_labels, range(len(dec_labels))))\n",
    "\n",
    "# Transform (decimal) weak labels into their corresponding indices in dec_labels.\n",
    "iz = np.array([z2i[zi] for zi in z])\n",
    "\n",
    "# Compute weak label proportions\n",
    "B = I[iz]\n",
    "q = np.mean(B, axis=0)\n",
    "\n",
    "# Compute ML estimate based on iz and M\n",
    "f_lim = computeML(iz, M, f, max_iter=10000, echo='on')\n",
    "\n",
    "f = None\n",
    "NLL = []\n",
    "MSE = []\n",
    "KL = []\n",
    "MSE_EM = []\n",
    "for i in range(n_it):\n",
    "    \n",
    "    f_new = computeML(iz, M, f, max_iter=1)\n",
    "    \n",
    "    if f is not None and np.all(f_new == f):\n",
    "        break\n",
    "    else:\n",
    "        f = np.copy(f_new)\n",
    "\n",
    "    # NLL.append(computeNLL(iz, M, f) + np.dot(q, np.log(q)))\n",
    "    NLL.append(computeNLL(iz, M, f) + np.dot(q, np.log(np.dot(M, f_lim))))\n",
    "    MSE.append(np.sum((f - eta)**2))\n",
    "    KL.append(- np.dot(eta, np.log(f)) + np.dot(eta, np.log(eta)))\n",
    "    MSE_EM.append(np.sum((f - f_lim)**2))\n",
    "\n",
    "print \"eta = {0}\".format(eta)\n",
    "print \"f_ml = {0}\".format(f)\n",
    "print \"f_v = {0}\".format(f_v)\n",
    "its = range(len(NLL))\n",
    "plt.loglog(its, NLL, label= \"Normalized NLL\")\n",
    "plt.loglog(its, MSE, label= \"MSE\")\n",
    "plt.loglog(its, MSE_EM, label= \"MSE_EM\")\n",
    "plt.loglog(its, KL, label= \"KL divergence\")\n",
    "plt.legend(loc='best')\n",
    "plt.axis('tight')\n",
    "plt.xlabel('Iteration')\n",
    "plt.ylim((1e-14, plt.ylim()[1]))\n",
    "plt.show()\n",
    "print \"The final estimate is {0}\".format(f)\n",
    "print \"The true label is {0}\".format(eta)\n"
   ]
  },
  {
   "cell_type": "markdown",
   "metadata": {},
   "source": [
    "In the figure above, we can expect that both the *Normalized NLL* and the *MSE_EM* converge to zero, because both measures are based on the comparison with the limit value. The curves are usefull to verify that the error measures decreas monotonically.\n",
    "\n",
    "The *MSE* and the *KL divergence* do not usually converge to zero, because of the finite sample size. Yoy may check that the limit values of these error measures are smaller when the sample size increases."
   ]
  },
  {
   "cell_type": "code",
   "execution_count": 9,
   "metadata": {
    "collapsed": false
   },
   "outputs": [
    {
     "name": "stdout",
     "output_type": "stream",
     "text": [
      "Converged in 492 iterations\n",
      "ML estimate: [ 0.4664  0.232   0.3016]\n",
      "Square error: 0.00215552000003\n"
     ]
    }
   ],
   "source": [
    "f_ml = computeML(iz, M, max_iter=100000, echo='on')\n",
    "\n",
    "print \"ML estimate: {0}\".format(f_ml)\n",
    "e2 = np.sum((f_ml - eta)**2)\n",
    "print \"Square error: {0}\".format(e2)"
   ]
  },
  {
   "cell_type": "markdown",
   "metadata": {},
   "source": [
    "## 2. Statistical analysis of the MSE.\n",
    "\n",
    "We will compute all estimates multiple times in order to compare the distribution of the MSE.\n",
    "\n",
    "First, to make sure that the WLL estimate is working properly, we plot the convergence of the estimate with the number of iterations"
   ]
  },
  {
   "cell_type": "code",
   "execution_count": 10,
   "metadata": {
    "collapsed": false,
    "scrolled": true
   },
   "outputs": [
    {
     "name": "stdout",
     "output_type": "stream",
     "text": [
      " Simulation 100 out of 100                 \n"
     ]
    }
   ],
   "source": [
    "n_sim = 100\n",
    "mse = {'wll': []}\n",
    "K = 1000\n",
    "for n in range(n_sim):\n",
    " \n",
    "    if (n+1)/1*1 == n+1:\n",
    "        print '\\r Simulation {0} out of {1}'.format(str(n+1), n_sim),\n",
    "    # Generate true labels\n",
    "    iy = np.random.choice(np.arange(0, C), size=K, p=eta)\n",
    "\n",
    "    # Generate weak label indices\n",
    "    z = wlw.generateWeak(iy, M, dec_labels)\n",
    "\n",
    "    # Estimation with virtual labels (M and dec_labels are not used if vl_model=='Mproper')\n",
    "    v = wlw.computeVirtual(z, C, method=vl_model, M=M, dec_labels=dec_labels)\n",
    "        \n",
    "    f_v = np.cumsum(v, axis=0) / np.arange(1, K+1)[:,np.newaxis]\n",
    "    mse_n = np.sum((f_v - eta)**2, axis=1)\n",
    "    mse['wll'].append(mse_n)    "
   ]
  },
  {
   "cell_type": "code",
   "execution_count": 11,
   "metadata": {
    "collapsed": false
   },
   "outputs": [
    {
     "data": {
      "image/png": "[encoded data removed]",
      "text/plain": [
       "<matplotlib.figure.Figure at 0x10fc65050>"
      ]
     },
     "metadata": {},
     "output_type": "display_data"
    }
   ],
   "source": [
    "mse_mean = np.mean(mse['wll'], axis=0)\n",
    "d = mse['wll'] - mse_mean\n",
    "mse_std_u = np.sqrt(np.sum(d**2*(d >=0), axis=0)/np.sum((d >=0), axis=0))\n",
    "mse_std_d = np.sqrt(np.sum(d**2*(d <=0), axis=0)/np.sum((d <=0), axis=0))\n",
    "plt.fill_between(range(K), mse_mean - mse_std_d, mse_mean + mse_std_u,\n",
    "    alpha=0.2, edgecolor='#1B2ACC', facecolor='#089FFF',\n",
    "    linewidth=1, linestyle='solid', antialiased=True)\n",
    "plt.loglog(range(K), mse_mean)\n",
    "plt.axis('tight')\n",
    "plt.xlabel('Sample size')\n",
    "plt.ylabel('Average square error')\n",
    "plt.show()"
   ]
  },
  {
   "cell_type": "markdown",
   "metadata": {},
   "source": [
    "### 2.1. Supervision vs partial supervision\n",
    "\n",
    "In the following we test, for a fixed sample size, the estimation of $\\boldsymbol{\\eta}$ as the average of virtual labels, in comparison with a complete supervision (i.e., as the average of the true labels)."
   ]
  },
  {
   "cell_type": "code",
   "execution_count": 12,
   "metadata": {
    "collapsed": false,
    "scrolled": false
   },
   "outputs": [
    {
     "name": "stdout",
     "output_type": "stream",
     "text": [
      " Simulation 200 out of 200                                                                                              \n"
     ]
    }
   ],
   "source": [
    "n_sim = 200\n",
    "mse = {'sup': [], 'wll': [], 'wml': []}\n",
    "I_C = np.eye(C)\n",
    "\n",
    "for n in range(n_sim):\n",
    " \n",
    "    if (n+1)/1*1 == n+1:\n",
    "        print '\\r Simulation {0} out of {1}'.format(str(n+1), n_sim),\n",
    "\n",
    "    # Generate true labels\n",
    "    iy = np.random.choice(np.arange(0, C), size=K, p=eta)\n",
    "    y = I_C[iy]\n",
    "\n",
    "    # Generate weak label indices\n",
    "    z = wlw.generateWeak(iy, M, dec_labels)\n",
    "    iz = np.array([z2i[zi] for zi in z])\n",
    "\n",
    "    # Supervised estimation\n",
    "    f = np.mean(y, axis=0)\n",
    "    mse['sup'].append(np.sum((f - eta)**2))\n",
    "\n",
    "    # Estimation with virtual labels (M and dec_labels are not used if vl_model=='Mproper')\n",
    "    v = wlw.computeVirtual(z, C, method=vl_model, M=M, dec_labels=dec_labels)\n",
    "\n",
    "    f_v = np.mean(v, axis=0)\n",
    "    mse['wll'].append(np.sum((f_v - eta)**2))\n",
    "\n",
    "    # Estimation with ML-EM\n",
    "    f_ml = computeML(iz, M, f0=None, max_iter=1000, echo='off')\n",
    "    mse['wml'].append(np.sum((f_ml - eta)**2))\n"
   ]
  },
  {
   "cell_type": "markdown",
   "metadata": {},
   "source": [
    "The following error plots shows, that, under very weak supervision, there is a significant performance degradation caused by the use of weak labels."
   ]
  },
  {
   "cell_type": "code",
   "execution_count": 13,
   "metadata": {
    "collapsed": false
   },
   "outputs": [
    {
     "data": {
      "image/png": "[encoded data removed]",
      "text/plain": [
       "<matplotlib.figure.Figure at 0x10fda2990>"
      ]
     },
     "metadata": {},
     "output_type": "display_data"
    },
    {
     "data": {
      "image/png": "[encoded data removed]",
      "text/plain": [
       "<matplotlib.figure.Figure at 0x10d6def50>"
      ]
     },
     "metadata": {},
     "output_type": "display_data"
    }
   ],
   "source": [
    "tag_list = ['sup', 'wll', 'wml']\n",
    "for i, tag in enumerate(tag_list):\n",
    "    plt.scatter([i + 1]*n_sim, mse[tag], c=[i]*n_sim, s=10, cmap='copper')\n",
    "\n",
    "plt.xticks(range(1, 1 + len(tag_list)), tag_list, rotation='45')\n",
    "plt.axis('tight')\n",
    "plt.ylim((0, plt.ylim()[1]))\n",
    "plt.show(block=False)\n",
    "\n",
    "plt.boxplot([mse[tag] for tag in tag_list])\n",
    "plt.xticks(range(1, 1 + len(tag_list)), tag_list, rotation='45')\n",
    "plt.show()"
   ]
  },
  {
   "cell_type": "markdown",
   "metadata": {},
   "source": [
    "## 3. Combination of datasets\n",
    "\n",
    "In the following experiments we explore the combination of a fully labeled dataset with a weakly labeled dataset. We show that the beharior of the estimate based on virtual label depends on the choice of the virtual label vector.\n",
    "\n",
    "The experiment demonstrates that, though different virtual label matrices can be asymptotically equivalent for the estimation of the probability vector, they show a different behavior under finite samples. \n",
    "\n",
    "### 3.1. Weighting samples\n",
    "\n",
    "In the following experiments we explore virtual matrices ${\\bf V}$ which are a combination of virtual matrices from the original datasets, i.e. they have the form ${\\bf V} = (w{\\bf V}_0, (1-w){\\bf V}_1)$ where ${\\bf V}_0$ and ${\\bf V}_1$ are virtual matrices for the original datasets. We show that the empirical mse depends on $w$, and there is an optimal choice for $w$.\n",
    "\n",
    "Note that the experiment does not explore all posible virtual matrices (i.e. all left inverses of the mixing matrix), but only those that are a composition of two fixed virtual matrices."
   ]
  },
  {
   "cell_type": "code",
   "execution_count": 14,
   "metadata": {
    "collapsed": false,
    "scrolled": false
   },
   "outputs": [
    {
     "name": "stdout",
     "output_type": "stream",
     "text": [
      "1 2 3 4 5 6 7 8 9 10 11 12 13 14 15 16 17 18 19 20 21 22 23 24 25 26 27 28 29 30 31 32 33 34 35 36 37 38 39 40 41 42 43 44 45 46 47 48 49 50 51 52 53 54 55 56 57 58 59 60 61 62 63 64 65 66 67 68 69 70 71 72 73 74 75 76 77 78 79 80 81 82 83 84 85 86 87 88 89 90 91 92 93 94 95 96 97 98 99 100"
     ]
    },
    {
     "data": {
      "image/png": "[encoded data removed]",
      "text/plain": [
       "<matplotlib.figure.Figure at 0x110a716d0>"
      ]
     },
     "metadata": {},
     "output_type": "display_data"
    },
    {
     "data": {
      "image/png": "[encoded data removed]",
      "text/plain": [
       "<matplotlib.figure.Figure at 0x110a98bd0>"
      ]
     },
     "metadata": {},
     "output_type": "display_data"
    },
    {
     "name": "stdout",
     "output_type": "stream",
     "text": [
      "\n"
     ]
    }
   ],
   "source": [
    "n_sim = 100\n",
    "K = 50\n",
    "\n",
    "mse = []\n",
    "for n in range(n_sim):\n",
    "\n",
    "    if (n+1)/1*1 == n+1:\n",
    "        print str(n+1),\n",
    "\n",
    "    # Generate fully labeled dataset\n",
    "    iy = np.random.choice(np.arange(0, C), size=K, p=eta)\n",
    "    y = I_C[iy]\n",
    "\n",
    "    # Generate weakly labeled dataset\n",
    "    iy = np.random.choice(np.arange(0, C), size=K, p=eta)\n",
    "    z = wlw.generateWeak(iy, M, dec_labels)\n",
    "\n",
    "    # Supervised estimation\n",
    "    f = np.mean(y, axis=0)\n",
    "\n",
    "    # Estimation with virtual labels (M and dec_labels are not used if vl_model=='Mproper')\n",
    "    v = wlw.computeVirtual(z, C, method=vl_model, M=M, dec_labels=dec_labels)\n",
    "\n",
    "    f_v = np.mean(v, axis=0)\n",
    "    \n",
    "    # Combination of virtual labels. \n",
    "    # Al values of w provide consistent virtual matrices. However, the msw for a finite sample depends on w.\n",
    "    w = np.arange(0, 1, 0.001)[:, np.newaxis]\n",
    "    f_est = f * w + f_v * (1 - w)\n",
    "    mse_n = np.sum((f_est - eta)**2, axis=1)\n",
    "    mse.append(mse_n)\n",
    "\n",
    "plt.plot(w.flatten(), np.array(mse).T)\n",
    "plt.xlabel('w')\n",
    "plt.ylabel('mse')\n",
    "plt.xlim([0, 1])\n",
    "plt.show()\n",
    "\n",
    "mse_mean =  np.mean(np.array(mse), axis=0)\n",
    "mse_std = np.std(np.array(mse), axis=0)\n",
    "plt.plot(w.flatten(), mse_mean)\n",
    "plt.fill_between(w.flatten(), mse_mean - mse_std, mse_mean + mse_std,\n",
    "    alpha=0.2, edgecolor='#1B2ACC', facecolor='#089FFF',\n",
    "    linewidth=4, linestyle='dashdot', antialiased=True)\n",
    "plt.xlabel('w')\n",
    "plt.ylabel('mse')\n",
    "plt.xlim([0, 1])\n",
    "plt.show()\n"
   ]
  },
  {
   "cell_type": "markdown",
   "metadata": {
    "collapsed": true
   },
   "source": [
    "### 3.2. Optimal weight versus noise level\n",
    "\n",
    "The following experiment shows that the relation between the noise level and the optimal weight might be non-trivial."
   ]
  },
  {
   "cell_type": "code",
   "execution_count": 23,
   "metadata": {
    "collapsed": false,
    "scrolled": false
   },
   "outputs": [
    {
     "name": "stdout",
     "output_type": "stream",
     "text": [
      "Beta = 0.6      "
     ]
    },
    {
     "name": "stderr",
     "output_type": "stream",
     "text": [
      "/Users/jcid/anaconda/lib/python2.7/site-packages/ipykernel/__main__.py:66: RuntimeWarning: invalid value encountered in log\n"
     ]
    },
    {
     "name": "stdout",
     "output_type": "stream",
     "text": [
      "Beta = 0.9  \n"
     ]
    }
   ],
   "source": [
    "Ktrue = 2000       # Number of clean labels\n",
    "Kweak = 2000       # Number of weak labels       \n",
    "qTrue = float(Ktrue)/(Ktrue + Kweak)\n",
    "qWeak = float(Kweak)/(Ktrue + Kweak)\n",
    "\n",
    "n_betas = 10\n",
    "beta_set = np.linspace(0, 1-1.0/n_betas, n_betas)\n",
    "\n",
    "n_sim = 200      # Number of experiments for each value of eta.\n",
    "wmse = []\n",
    "wkld = []\n",
    "w = np.linspace(0, 1, 101)[:, np.newaxis]/ qTrue\n",
    "\n",
    "for beta in beta_set:\n",
    "\n",
    "    print \"\\rBeta = {0}\".format(beta),\n",
    "    \n",
    "    # Mixing matrix\n",
    "    M_b = wlw.computeM(C, beta=beta, method=wl_model)\n",
    "    if wl_model == 'quasi_IPL':\n",
    "        dec_labels_b = np.arange(0, 2**C)\n",
    "    elif wl_model == 'noisy':\n",
    "        dec_labels_b = 2**np.arange(C-1, -1, -1)\n",
    "    else:\n",
    "        raise ValueError(\"dec_labels not implemented for the given wl_model\")\n",
    "\n",
    "    # Compute virtual matrix (this is to compute virtual labels in a more efficient way\n",
    "    # than the current implementation of ComputeVirtual in WLweakener)\n",
    "    V = np.linalg.pinv(M_b)    \n",
    "    \n",
    "    np.random.seed(0)\n",
    "    mse = []\n",
    "    kld = []\n",
    "    for n in range(n_sim):\n",
    "\n",
    "        # Generate fully labeled dataset\n",
    "        iy = np.random.choice(np.arange(0, C), size=Ktrue, p=eta)\n",
    "        y = I_C[iy]\n",
    "\n",
    "        # Generate weakly labeled dataset\n",
    "        iy2 = np.random.choice(np.arange(0, C), size=Kweak, p=eta)\n",
    "        z2 = wlw.generateWeak(iy2, M_b, dec_labels_b)\n",
    "\n",
    "        # Compute inverted index \n",
    "        z2i = dict(zip(dec_labels_b, range(len(dec_labels_b))))\n",
    "        # Transform (decimal) weak labels into their corresponding indices in dec_labels.\n",
    "        iz2 = np.array([z2i[zi] for zi in z2])\n",
    "    \n",
    "        # Supervised estimation\n",
    "        f = np.mean(y, axis=0)\n",
    "\n",
    "        # Estimation with virtual labels\n",
    "        # v = wlw.computeVirtual(iz, C, method='Mproper', M=M)\n",
    "        v = V.T[iz2.astype(int)]\n",
    "        f_v = np.mean(v, axis=0)\n",
    "        \n",
    "        # if np.any(f_v<=0):\n",
    "        #     print \"f_v = {0}\".format(f_v)\n",
    "\n",
    "        # Weighted average\n",
    "        f_est = f * w * qTrue + f_v * (1 - w * qTrue)\n",
    "        # f_est = f * w + f_v * (1 - w)\n",
    "        mse_n = np.sum((f_est - eta)**2, axis=1)\n",
    "        mse.append(mse_n)\n",
    "        \n",
    "        kld_n = - np.dot(eta, np.log(f_est.T)) \n",
    "        kld.append(kld_n)\n",
    "\n",
    "    mse_mean =  np.mean(np.array(mse), axis=0)\n",
    "    imin = np.argmin(mse_mean)\n",
    "    wmse.append(w[imin][0])\n",
    "    \n",
    "    kld_mean =  np.mean(np.array(kld), axis=0)\n",
    "    imin = np.argmin(kld_mean)\n",
    "    wkld.append(w[imin][0])"
   ]
  },
  {
   "cell_type": "code",
   "execution_count": 22,
   "metadata": {
    "collapsed": false
   },
   "outputs": [
    {
     "data": {
      "image/png": "[encoded data removed]",
      "text/plain": [
       "<matplotlib.figure.Figure at 0x110a3e710>"
      ]
     },
     "metadata": {},
     "output_type": "display_data"
    }
   ],
   "source": [
    "plt.plot(beta_set, np.array(wmse).flatten(), label=\"MSE\")\n",
    "plt.plot(beta_set, np.array(wkld).flatten(), label=\"KLD\")\n",
    "plt.xlabel('beta (i.e. from low to high noise)')\n",
    "plt.ylabel('wmin')\n",
    "plt.legend(loc='best')\n",
    "plt.show()"
   ]
  },
  {
   "cell_type": "markdown",
   "metadata": {},
   "source": [
    "The last experiment shows several important issues:\n",
    "\n",
    "* The optimal weights could be independent on the choice of the proper loss\n",
    "* The average of the virtual labels can be out of the probability simplex. In this respect, the optimal probability estimate should be computed with the constraint that the estimate lies inside the probability simplex. (Negative values are the cause of the anomalies in the KL divergence weighs that may appear in the above plot).\n"
   ]
  },
  {
   "cell_type": "markdown",
   "metadata": {
    "collapsed": true
   },
   "source": [
    "### 3.3. A comparison between EM, virtual labels and the optimal weights\n",
    "\n",
    "The following section shows that, despite ML-EM and weak losses may lead to different results, they can show very similar performance, though the results may depend on the selection of the configurable parameters (in particular, label proportions and mixing matrix)."
   ]
  },
  {
   "cell_type": "code",
   "execution_count": 17,
   "metadata": {
    "collapsed": false,
    "scrolled": true
   },
   "outputs": [
    {
     "name": "stdout",
     "output_type": "stream",
     "text": [
      "Beta = 0.95                   [0.0076714062499999265, 0.0082968835482103848, 0.0090590396864186785, 0.0098755767741935622, 0.01067544437500002, 0.011454667595000006, 0.012158002500000016, 0.012821096528739606, 0.013581997031250006, 0.013999953014053297, 0.014579313499999993, 0.015015924783163258, 0.015286781874999988, 0.015436249999999846, 0.015436249999999846, 0.015242466874999952, 0.014949037812499988, 0.014542207169421506, 0.013972748724489784, 0.013371984939446349]\n",
      "[0.0076714062499999985, 0.0082967644326503564, 0.0090589967580957907, 0.0098829376794652962, 0.010686042858429808, 0.011465620502461785, 0.012171441491889612, 0.012831657764968665, 0.013596195005945342, 0.013999287841830922, 0.014577093425605604, 0.015015278789615102, 0.015286636114106465, 0.015421860868499974, 0.015388194725157098, 0.015226485207100644, 0.014950531619822434, 0.014553292361068674, 0.013983698741573729, 0.01338081428212313]\n",
      "[0.0076714062500000003, 0.0082928269585796459, 0.009055002997931513, 0.009866131525946599, 0.010678714862826556, 0.011454352545186175, 0.012143514587598343, 0.01281824494960585, 0.013594316030812643, 0.014015853271858357, 0.014544129265102313, 0.014991835724762441, 0.015275605652865074, 0.015419155793394616, 0.01538784359797042, 0.015200747153953951, 0.014898387541729648, 0.014477292146549135, 0.013905648698728887, 0.013259306735999571]\n"
     ]
    }
   ],
   "source": [
    "Ktrue = 40       # Number of clean labels\n",
    "Kweak = 40       # Number of weak labels       \n",
    "qTrue = float(Ktrue)/(Ktrue + Kweak)\n",
    "qWeak = float(Kweak)/(Ktrue + Kweak)\n",
    "\n",
    "n_betas = 20\n",
    "beta_set = np.linspace(0, 1.0-1.0/n_betas, n_betas)\n",
    "n_sim = 2000      # Number of experiments for each value of eta.\n",
    "wmse = []\n",
    "w = np.linspace(0, 1, 101)[:, np.newaxis]/ qTrue\n",
    "\n",
    "mse_w = []\n",
    "mse_v = []\n",
    "mse_ml = []\n",
    "wtest = []\n",
    "wpseudo = []\n",
    "\n",
    "for beta in beta_set:\n",
    "\n",
    "    print \"\\rBeta = {0}\".format(beta),\n",
    "    \n",
    "    # Mixing matrix\n",
    "    M_b = wlw.computeM(C, beta=beta, method=wl_model)\n",
    "    if wl_model == 'quasi_IPL':\n",
    "        dec_labels_b = np.arange(0, 2**C)\n",
    "    elif wl_model == 'noisy':\n",
    "        dec_labels_b = 2**np.arange(C-1, -1, -1)\n",
    "    else:\n",
    "        raise ValueError(\"dec_labels not implemented for the given wl_model\")\n",
    "    # Remove zero rows\n",
    "    flag = np.nonzero(np.sum(M_b, axis=1))[0]\n",
    "    M_b = M_b[flag, :]   # This is to remove zero rows, which are not relevant\n",
    "    dec_labels_b = dec_labels_b[flag]   # This is to remove zero rows, which are not relevant\n",
    "        \n",
    "    # Compute virtual matrix \n",
    "    # Note that the virtual label matrix is equivalent to the (transpose of the) matrix of virtual labels \n",
    "    # corresponding to the weak labels in dec_labels.\n",
    "    # Computing the virtual matrix here we avoid computing a pseudoinverse inside the \"for\" loop below\n",
    "    V = wlw.computeVirtual(dec_labels_b, C, method=vl_model, M=M_b, dec_labels=dec_labels_b).T\n",
    "    \n",
    "    # Compute combined mixing matrix\n",
    "    M2 = np.vstack((qTrue*np.eye(C), qWeak*M_b))\n",
    "    V2 = np.linalg.pinv(M2)\n",
    "\n",
    "    np.random.seed(0)\n",
    "    mse_wn = []\n",
    "    mse_vn = []\n",
    "    mse_mln = []\n",
    "\n",
    "    for n in range(n_sim):\n",
    "\n",
    "        # #####################\n",
    "        # ## Dataset generation\n",
    "        \n",
    "        # Generate fully labeled dataset\n",
    "        iy = np.random.choice(np.arange(0, C), size=Ktrue, p=eta)\n",
    "        y = I_C[iy]\n",
    "\n",
    "        # Generate weakly labeled dataset\n",
    "        iy2 = np.random.choice(np.arange(0, C), size=Kweak, p=eta)\n",
    "        z = wlw.generateWeak(iy2, M_b, dec_labels_b)\n",
    "\n",
    "        # Compute inverted index \n",
    "        z2i = dict(zip(dec_labels_b, range(len(dec_labels_b))))\n",
    "        # Transform (decimal) weak labels into their corresponding indices in dec_labels.\n",
    "        iz = np.array([z2i[zi] for zi in z])\n",
    "\n",
    "        # Join datasets\n",
    "        iz2 = np.hstack((iy, iz + C))\n",
    "        \n",
    "        # #######################\n",
    "        # ## Weighted combination\n",
    "        \n",
    "        # Supervised estimation with dataset 0\n",
    "        f = np.mean(y, axis=0)\n",
    "\n",
    "        # Estimation with virtual labels and dataset 1\n",
    "        # v = wlw.computeVirtual(iz, C, method='Mproper', M=M)\n",
    "        v = V.T[iz.astype(int)]\n",
    "        \n",
    "        f_v = np.mean(v, axis=0)\n",
    "        \n",
    "        # Weighted average\n",
    "        f_est = f*w*qTrue + f_v*(1-w*qTrue)\n",
    "        mse_wn.append(np.sum((f_est - eta)**2, axis=1))\n",
    "\n",
    "        # #######################\n",
    "        # ## (pinv) M-proper loss\n",
    "        v2 = V2.T[iz2.astype(int)]\n",
    "        f_v2 = np.mean(v2, axis=0)\n",
    "        mse_vn.append(np.sum((f_v2 - eta)**2))        \n",
    "        \n",
    "        # ##############\n",
    "        # ## ML estimate\n",
    "        f_ml = computeML(iz2, M2, f0=None, max_iter=1000, echo='off')\n",
    "        mse_mln.append(np.sum((f_ml - eta)**2))\n",
    "\n",
    "    mse_mean =  np.mean(np.array(mse_wn), axis=0)\n",
    "    imin = np.argmin(mse_mean)\n",
    "    wmse.append(w[imin][0])\n",
    "    mse_w.append(np.min(mse_mean))\n",
    "\n",
    "    mse_v.append(np.mean(np.array(mse_vn), axis=0))\n",
    "    mse_ml.append(np.mean(np.array(mse_mln), axis=0))\n",
    "    \n",
    "    F11 = qWeak**2 * np.linalg.norm(np.dot(M, V), 'fro')**2\n",
    "    F10 = qWeak**2 * np.linalg.norm(M, 'fro')**2\n",
    "    F01 = qTrue**2 * np.linalg.norm(V, 'fro')**2\n",
    "    F00 = qTrue**2*C\n",
    "    w0= qTrue*C/(F00 + F10)\n",
    "    \n",
    "    wtest.append(qTrue*(F11+F01) / (qTrue**2*(F11+F01) + qWeak**2*(F00+F10)))\n",
    "    wpseudo.append((w0/qTrue-1))\n",
    "    \n",
    "print mse_w\n",
    "print mse_v\n",
    "print mse_ml"
   ]
  },
  {
   "cell_type": "markdown",
   "metadata": {},
   "source": [
    "The next figure shows the MSE obtained with ML-EM (red), virtual labels based on the left inverse of ${\\bf M}$ provided by `pinv` (blue) and virtual labels with the empirically optimal weights. The results may depend on the choice of the mixing matrix, but in general there is a good adjustment between ML and virtual labels. Also, there seem to exist some optimal weight providing and MSE equivalent to ML."
   ]
  },
  {
   "cell_type": "code",
   "execution_count": 18,
   "metadata": {
    "collapsed": false,
    "scrolled": false
   },
   "outputs": [
    {
     "data": {
      "image/png": "[encoded data removed]",
      "text/plain": [
       "<matplotlib.figure.Figure at 0x110bede50>"
      ]
     },
     "metadata": {},
     "output_type": "display_data"
    },
    {
     "name": "stdout",
     "output_type": "stream",
     "text": [
      "[0.0076714062500000003, 0.0082928269585796459, 0.009055002997931513, 0.009866131525946599, 0.010678714862826556, 0.011454352545186175, 0.012143514587598343, 0.01281824494960585, 0.013594316030812643, 0.014015853271858357, 0.014544129265102313, 0.014991835724762441, 0.015275605652865074, 0.015419155793394616, 0.01538784359797042, 0.015200747153953951, 0.014898387541729648, 0.014477292146549135, 0.013905648698728887, 0.013259306735999571]\n"
     ]
    }
   ],
   "source": [
    "plt.plot(beta_set, np.array(mse_w).flatten(), label=\"WLL_w\")\n",
    "plt.plot(beta_set, np.array(mse_v).flatten(), label=\"WLL\")\n",
    "plt.plot(beta_set, np.array(mse_ml).flatten(), label=\"ML-EM\")\n",
    "plt.xlabel('beta (from low to high noise)')\n",
    "plt.ylabel('mse')\n",
    "# plt.ylim((0, np.max(mse_w)+0.001))\n",
    "plt.legend(loc='best')\n",
    "plt.show()\n",
    "\n",
    "print mse_ml"
   ]
  },
  {
   "cell_type": "markdown",
   "metadata": {},
   "source": [
    "In the draft paper I have derived some equations to compute the optimal weights of a combination of two given virtual matrices.\n",
    "These weights are computed below, for different values of beta."
   ]
  },
  {
   "cell_type": "code",
   "execution_count": null,
   "metadata": {
    "collapsed": false
   },
   "outputs": [],
   "source": [
    "n_betas = 20\n",
    "beta_set = np.linspace(0, 1-1.0/n_betas, n_betas)\n",
    "wtest = []\n",
    "wpseudo = []\n",
    "\n",
    "for beta in beta_set:\n",
    "\n",
    "    print \"\\rBeta = {0}\".format(beta),\n",
    "\n",
    "    # Mixing matrix\n",
    "    M = wlw.computeM(C, beta=beta, method=wl_model)\n",
    "\n",
    "    # Compute virtual matrix (this is to compute virtual labels in a more efficient way\n",
    "    # than the current implementation of ComputeVirtual in WLweakener)\n",
    "    V = np.linalg.pinv(M)\n",
    "\n",
    "    # Compute combined mixing matrix\n",
    "    M2 = np.vstack((qTrue*np.eye(C), qWeak*M))\n",
    "    V2 = np.linalg.pinv(M2)\n",
    "\n",
    "    F11 = qWeak**2 * np.linalg.norm(np.dot(M, V), 'fro')**2\n",
    "    F10 = qWeak**2 * np.linalg.norm(M, 'fro')**2\n",
    "    F01 = qTrue**2 * np.linalg.norm(V, 'fro')**2\n",
    "    F00 = qTrue**2*C\n",
    "    w0= qTrue*C/(F00 + F10)\n",
    "    \n",
    "    wtest.append(qTrue*(F11 + F01) / (qTrue**2*(F11+F01) + qWeak**2*(F00+F10)))\n",
    "    wpseudo.append(w0/qTrue-1)"
   ]
  },
  {
   "cell_type": "markdown",
   "metadata": {},
   "source": [
    "Next figure shows the difference between the empirically optimal weights (blue), the prediction (green) and a slight modification of the prediction that seems to improve the adjustment between predicted and optimal weights in a significant manner. No conclusions can be made yet, because there could be errors in the derived equations (to be checked)."
   ]
  },
  {
   "cell_type": "code",
   "execution_count": null,
   "metadata": {
    "collapsed": false,
    "scrolled": true
   },
   "outputs": [],
   "source": [
    "plt.plot(beta_set, np.array(wmse).flatten(), label=\"Empirical\")\n",
    "plt.plot(beta_set, np.array(wtest).flatten(), label=\"Prediction\")\n",
    "plt.plot(beta_set, np.array(wpseudo).flatten(), label=\"Pseudo-pred\")\n",
    "plt.xlabel('beta (from low to high noise)')\n",
    "plt.ylabel('wmin')\n",
    "plt.legend(loc=\"best\")\n",
    "plt.show()\n",
    "print np.array(wmse).flatten()"
   ]
  },
  {
   "cell_type": "code",
   "execution_count": null,
   "metadata": {
    "collapsed": false
   },
   "outputs": [],
   "source": [
    "beta_set = np.linspace(0, 1, 21)\n",
    "print beta_set"
   ]
  },
  {
   "cell_type": "code",
   "execution_count": null,
   "metadata": {
    "collapsed": true
   },
   "outputs": [],
   "source": []
  }
 ],
 "metadata": {
  "anaconda-cloud": {},
  "kernelspec": {
   "display_name": "Python [conda root]",
   "language": "python",
   "name": "conda-root-py"
  },
  "language_info": {
   "codemirror_mode": {
    "name": "ipython",
    "version": 2
   },
   "file_extension": ".py",
   "mimetype": "text/x-python",
   "name": "python",
   "nbconvert_exporter": "python",
   "pygments_lexer": "ipython2",
   "version": "2.7.13"
  }
 },
 "nbformat": 4,
 "nbformat_minor": 0
}
