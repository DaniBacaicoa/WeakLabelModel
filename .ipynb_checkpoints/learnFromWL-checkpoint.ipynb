{
 "cells": [
  {
   "cell_type": "markdown",
   "metadata": {
    "slideshow": {
     "slide_type": "slide"
    }
   },
   "source": [
    "\n",
    "# A point analysis of weak learning models\n",
    "\n",
    "    Notebook version: 1.1 (Feb 2, 2017)\n",
    "\n",
    "    Author: Jesús Cid Sueiro (jcid@tsc.uc3m.es)\n",
    "               "
   ]
  },
  {
   "cell_type": "markdown",
   "metadata": {
    "slideshow": {
     "slide_type": "notes"
    }
   },
   "source": [
    "    Changes: v.1.0 - First version"
   ]
  },
  {
   "cell_type": "code",
   "execution_count": 9,
   "metadata": {
    "collapsed": false,
    "slideshow": {
     "slide_type": "slide"
    }
   },
   "outputs": [],
   "source": [
    "# To visualize plots in the notebook\n",
    "%matplotlib inline \n",
    "\n",
    "# Import some libraries that will be necessary for working with data and displaying plots\n",
    "# import csv     # To read csv files\n",
    "# import random\n",
    "import matplotlib.pyplot as plt\n",
    "import numpy as np\n",
    "from scipy import spatial\n",
    "# from sklearn import neighbors, datasets\n",
    "import wlc.WLweakener2 as wlw"
   ]
  },
  {
   "cell_type": "markdown",
   "metadata": {
    "slideshow": {
     "slide_type": "slide"
    }
   },
   "source": [
    "\n",
    "## 1. Introduction.\n",
    "\n",
    "In this notebook I analyze the behavior of a sample based estimates of a $C$-dimensional probability vector $\\boldsymbol{\\eta}$ from  binary instances.\n",
    "\n",
    "The main goal is to compare the behavior of a \"supervised\" estimate, based on a set of labels generated from $\\boldsymbol{\\eta}$, and estimates based on weak labels.\n",
    "\n",
    "To do so, we will generate a dataset of labels drawn from $\\boldsymbol{\\eta}$, and one or more datasets of weak labels drawn from $\\boldsymbol{\\eta}$ and from a given mixing matrix ${\\bf M}$.\n",
    "\n",
    "First we define some configurable parameters:"
   ]
  },
  {
   "cell_type": "code",
   "execution_count": 10,
   "metadata": {
    "collapsed": false
   },
   "outputs": [
    {
     "name": "stdout",
     "output_type": "stream",
     "text": [
      "Mixing matrix:\n",
      "[[ 0.          0.          0.33333333]\n",
      " [ 0.          0.33333333  0.        ]\n",
      " [ 0.          0.33333333  0.33333333]\n",
      " [ 0.33333333  0.          0.        ]\n",
      " [ 0.33333333  0.          0.33333333]\n",
      " [ 0.33333333  0.33333333  0.        ]]\n"
     ]
    }
   ],
   "source": [
    "C = 3                             # Number of classes\n",
    "K = 1000                          # Sample size\n",
    "eta = np.array([0.5, 0.2, 0.3])   # True probability vector\n",
    "\n",
    "# Mixing matrix\n",
    "M = wlw.computeM(C, alpha=0.5, beta=0.5, method='quasi_IPL')\n",
    "M = M[np.sum(M, axis=1) > 0] # if np.sum(m)!=0]\n",
    "print \"Mixing matrix:\"\n",
    "print M"
   ]
  },
  {
   "cell_type": "markdown",
   "metadata": {},
   "source": [
    "### 1.1. Dataset generation.\n",
    "\n",
    "In the following we will generate a dataset of labels and their corresponding weak labels"
   ]
  },
  {
   "cell_type": "code",
   "execution_count": 11,
   "metadata": {
    "collapsed": false
   },
   "outputs": [],
   "source": [
    "# Generate true labels\n",
    "I = np.eye(C)\n",
    "iy = np.random.choice(np.arange(0, C), size=K, p=eta)\n",
    "y = I[iy]\n",
    "\n",
    "# Generate weak label indices\n",
    "iz = wlw.generateWeak(iy, M, C)"
   ]
  },
  {
   "cell_type": "markdown",
   "metadata": {},
   "source": [
    "### 1.2. Supervised, sample based estimation.\n",
    "\n",
    "In the supervised setting, ${\\bf y}$ is observed an the optimal sample based estimate of $\\boldsymbol{\\eta}$ (minimizing any Bregmann divergence) based the observed labels is the sample average"
   ]
  },
  {
   "cell_type": "code",
   "execution_count": 12,
   "metadata": {
    "collapsed": false
   },
   "outputs": [
    {
     "name": "stdout",
     "output_type": "stream",
     "text": [
      "Supervised estimate: [ 0.482  0.203  0.315]\n",
      "Square error: 0.000186\n"
     ]
    }
   ],
   "source": [
    "f = np.mean(y, axis=0)\n",
    "print \"Supervised estimate: {0}\".format(f)\n",
    "e2 = np.mean((f - eta)**2)\n",
    "print \"Square error: {0}\".format(e2)"
   ]
  },
  {
   "cell_type": "markdown",
   "metadata": {},
   "source": [
    "### 1.3. Learning from weak labels.\n",
    "\n",
    "There are many ways to estimate $\\boldsymbol{\\eta}$ from the weak labels. We consider here a representative sample of them:"
   ]
  },
  {
   "cell_type": "markdown",
   "metadata": {},
   "source": [
    "#### 1.3.1. Averaging virtual labels"
   ]
  },
  {
   "cell_type": "code",
   "execution_count": 13,
   "metadata": {
    "collapsed": false
   },
   "outputs": [
    {
     "name": "stdout",
     "output_type": "stream",
     "text": [
      "Virtual labels are:\n",
      "[[ 1. -1.  1.]\n",
      " [ 1. -1.  1.]\n",
      " [ 1.  0.  0.]\n",
      " ..., \n",
      " [ 1. -1.  1.]\n",
      " [ 1.  0.  0.]\n",
      " [ 1. -1.  1.]]\n",
      "Virtual label estimate: [ 0.341  0.149  0.51 ]\n",
      "Square error: 0.023994\n"
     ]
    }
   ],
   "source": [
    "v = wlw.computeVirtual(iz, C, method='quasi_IPL')\n",
    "print \"Virtual labels are:\"\n",
    "print v\n",
    "f_v = np.mean(v, axis=0)\n",
    "\n",
    "print \"Virtual label estimate: {0}\".format(f_v)\n",
    "e2 = np.mean((f_v - eta)**2)\n",
    "print \"Square error: {0}\".format(e2)"
   ]
  },
  {
   "cell_type": "markdown",
   "metadata": {},
   "source": [
    "#### 1.3.2. Maximum Likelihood Estimate\n",
    "\n",
    "The ML estimate cannot be computed analytically,"
   ]
  },
  {
   "cell_type": "code",
   "execution_count": 14,
   "metadata": {
    "collapsed": false
   },
   "outputs": [
    {
     "name": "stdout",
     "output_type": "stream",
     "text": [
      "Converged in 58 iterations\n",
      "ML estimate: [ 0.50024758  0.1915352   0.30821722]\n",
      "Square error: 4.64122473665e-05\n"
     ]
    }
   ],
   "source": [
    "f_ml = np.ones(C)/C\n",
    "iterate = True\n",
    "count = 0\n",
    "while iterate:\n",
    "    fi = np.dot(np.diag(f_ml), M.T)[:,iz.astype(int)]\n",
    "    fi = fi / np.sum(fi, axis=0)\n",
    "    f_new = np.mean(fi, axis=1)\n",
    "    iterate = np.any(f_new != f_ml)\n",
    "    f_ml = f_new\n",
    "    count += 1\n",
    "\n",
    "print \"Converged in {0} iterations\".format(count)\n",
    "print \"ML estimate: {0}\".format(f_ml)\n",
    "e2 = np.mean((f_ml - eta)**2)\n",
    "print \"Square error: {0}\".format(e2)"
   ]
  },
  {
   "cell_type": "markdown",
   "metadata": {},
   "source": [
    "## 2. Statistical analysis of the MSE.\n",
    "\n",
    "We will compute all estimates multiple times in orde to compare the distribution of the MSE."
   ]
  },
  {
   "cell_type": "code",
   "execution_count": 20,
   "metadata": {
    "collapsed": false,
    "scrolled": true
   },
   "outputs": [
    {
     "name": "stdout",
     "output_type": "stream",
     "text": [
      "10 20 30 40 50 60 70 80 90 100 110 120 130 140 150 160 170 180 190 200 210 220 230 240 250 260 270 280 290 300 310 320 330 340 350 360 370 380 390 400 410 420 430 440 450 460 470 480 490 500 510 520 530 540 550 560 570 580 590 600 610 620 630 640 650 660 670 680 690 700 710 720 730 740 750 760 770 780 790 800 810 820 830 840 850 860 870 880 890 900 910 920 930 940 950 960 970 980 990 1000\n"
     ]
    }
   ],
   "source": [
    "n_sim = 1000\n",
    "mse = {'sup': [], 'wll': [], 'wml': []}\n",
    "\n",
    "for n in range(n_sim):\n",
    " \n",
    "    if (n+1)/10*10 == n+1:\n",
    "        print str(n+1),\n",
    "    # Generate true labels\n",
    "    iy = np.random.choice(np.arange(0, C), size=K, p=eta)\n",
    "    y = I[iy]\n",
    "\n",
    "    # Generate weak label indices\n",
    "    iz = wlw.generateWeak(iy, M, C)\n",
    "\n",
    "    # Supervised estimation\n",
    "    f = np.mean(y, axis=0)\n",
    "    mse['sup'].append(np.sum((f - eta)**2))\n",
    "\n",
    "    # Estimation with virtual labels\n",
    "    # v = wlw.computeVirtual(iz, C, method='quasi_IPL')\n",
    "    v = wlw.computeVirtual(iz, C, method='Mproper', M=M)\n",
    "    f_v = np.mean(v, axis=0)\n",
    "    mse['wll'].append(np.mean((f_v - eta)**2))\n",
    "\n",
    "    # ML estimate   \n",
    "    f_ml = np.ones(C)/C\n",
    "    iterate = True\n",
    "    while iterate:\n",
    "        fi = np.dot(np.diag(f_ml), M.T)[:,iz.astype(int)]\n",
    "        fi = fi / np.sum(fi, axis=0)\n",
    "        f_new = np.mean(fi, axis=1)\n",
    "        # iterate = np.any(f_new != f_ml)\n",
    "        iterate = np.mean(np.abs(f_new - f_ml)) > 1e-15\n",
    "        f_ml = f_new\n",
    "    mse['wml'].append(np.sum((f_ml - eta)**2))"
   ]
  },
  {
   "cell_type": "code",
   "execution_count": 21,
   "metadata": {
    "collapsed": false
   },
   "outputs": [
    {
     "data": {
      "image/png": "[encoded data removed]",
      "text/plain": [
       "<matplotlib.figure.Figure at 0x10eca4d10>"
      ]
     },
     "metadata": {},
     "output_type": "display_data"
    },
    {
     "data": {
      "image/png": "[encoded data removed]",
      "text/plain": [
       "<matplotlib.figure.Figure at 0x10fce4250>"
      ]
     },
     "metadata": {},
     "output_type": "display_data"
    }
   ],
   "source": [
    "tag_list = ['sup', 'wll', 'wml']\n",
    "for i, tag in enumerate(tag_list):\n",
    "    plt.scatter([i + 1]*n_sim, mse[tag], c=[i]*n_sim, s=10, cmap='copper')\n",
    "\n",
    "plt.xticks(range(1, 1 + len(tag_list)), tag_list, rotation='45')\n",
    "plt.axis('tight')\n",
    "plt.ylim((0,0.01))\n",
    "plt.show(block=False)\n",
    "\n",
    "plt.boxplot([mse[tag] for tag in tag_list])\n",
    "plt.xticks(range(1, 1 + len(tag_list)), tag_list, rotation='45')\n",
    "plt.show()"
   ]
  },
  {
   "cell_type": "code",
   "execution_count": null,
   "metadata": {
    "collapsed": true
   },
   "outputs": [],
   "source": []
  }
 ],
 "metadata": {
  "anaconda-cloud": {},
  "celltoolbar": "Slideshow",
  "kernelspec": {
   "display_name": "Python [conda root]",
   "language": "python",
   "name": "conda-root-py"
  },
  "language_info": {
   "codemirror_mode": {
    "name": "ipython",
    "version": 2
   },
   "file_extension": ".py",
   "mimetype": "text/x-python",
   "name": "python",
   "nbconvert_exporter": "python",
   "pygments_lexer": "ipython2",
   "version": "2.7.11"
  }
 },
 "nbformat": 4,
 "nbformat_minor": 0
}
